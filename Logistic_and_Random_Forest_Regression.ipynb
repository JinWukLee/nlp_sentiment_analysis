{
  "nbformat": 4,
  "nbformat_minor": 0,
  "metadata": {
    "colab": {
      "provenance": []
    },
    "kernelspec": {
      "name": "python3",
      "display_name": "Python 3"
    },
    "language_info": {
      "name": "python"
    }
  },
  "cells": [
    {
      "cell_type": "code",
      "source": [
        "import pandas as pd\n",
        "import numpy as np\n",
        "from sklearn.model_selection import train_test_split\n",
        "from sklearn.feature_extraction.text import TfidfVectorizer\n",
        "from sklearn.ensemble import RandomForestClassifier\n",
        "from sklearn.linear_model import LogisticRegression\n",
        "from sklearn.metrics import classification_report, accuracy_score\n",
        "from sklearn.metrics import confusion_matrix, precision_score, recall_score, f1_score\n",
        "from sklearn.preprocessing import MinMaxScaler"
      ],
      "metadata": {
        "id": "KHGg2Hvhnhev"
      },
      "execution_count": null,
      "outputs": []
    },
    {
      "cell_type": "code",
      "source": [
        "from bs4 import BeautifulSoup\n",
        "import re\n",
        "from wordcloud import WordCloud, STOPWORDS\n",
        "import matplotlib.pyplot as plt"
      ],
      "metadata": {
        "id": "y9a-_up8v_kC"
      },
      "execution_count": null,
      "outputs": []
    },
    {
      "cell_type": "markdown",
      "source": [
        "## Logistic Regression"
      ],
      "metadata": {
        "id": "uebXlj5c7FX7"
      }
    },
    {
      "cell_type": "code",
      "execution_count": null,
      "metadata": {
        "id": "_1AK0JXYkIh5",
        "colab": {
          "base_uri": "https://localhost:8080/"
        },
        "outputId": "fd7ae70b-e85f-47e0-9ed0-4c6b653e8e52"
      },
      "outputs": [
        {
          "output_type": "stream",
          "name": "stdout",
          "text": [
            "Drive already mounted at /content/drive; to attempt to forcibly remount, call drive.mount(\"/content/drive\", force_remount=True).\n"
          ]
        }
      ],
      "source": [
        "from google.colab import drive\n",
        "\n",
        "# Step 1: Load the Data\n",
        "drive.mount('/content/drive')\n",
        "data_path = ('/content/drive/MyDrive/Yale 2024-2025/LING227_Final/amazon_review.csv')"
      ]
    },
    {
      "cell_type": "code",
      "source": [
        "# Step 2: Read data\n",
        "# Output 5 rows of data\n",
        "reviews = pd.read_csv(data_path)\n",
        "print(reviews.head())"
      ],
      "metadata": {
        "id": "CvTUeM6zkuuB",
        "colab": {
          "base_uri": "https://localhost:8080/"
        },
        "outputId": "280b6e18-6117-4ab4-f580-b5a117fcee5b"
      },
      "execution_count": null,
      "outputs": [
        {
          "output_type": "stream",
          "name": "stdout",
          "text": [
            "       reviewerID        asin  reviewerName helpful  \\\n",
            "0  A3SBTW3WS4IQSN  B007WTAJTO           NaN  [0, 0]   \n",
            "1  A18K1ODH1I2MVB  B007WTAJTO          0mie  [0, 0]   \n",
            "2  A2FII3I2MBMUIA  B007WTAJTO           1K3  [0, 0]   \n",
            "3   A3H99DFEG68SR  B007WTAJTO           1m2  [0, 0]   \n",
            "4  A375ZM4U047O79  B007WTAJTO  2&amp;1/2Men  [0, 0]   \n",
            "\n",
            "                                          reviewText  overall  \\\n",
            "0                                         No issues.      4.0   \n",
            "1  Purchased this for my device, it worked as adv...      5.0   \n",
            "2  it works as expected. I should have sprung for...      4.0   \n",
            "3  This think has worked out great.Had a diff. br...      5.0   \n",
            "4  Bought it with Retail Packaging, arrived legit...      5.0   \n",
            "\n",
            "                                  summary  unixReviewTime  reviewTime  \\\n",
            "0                              Four Stars      1406073600  2014-07-23   \n",
            "1                           MOAR SPACE!!!      1382659200  2013-10-25   \n",
            "2               nothing to really say....      1356220800  2012-12-23   \n",
            "3  Great buy at this price!!!  *** UPDATE      1384992000  2013-11-21   \n",
            "4                        best deal around      1373673600  2013-07-13   \n",
            "\n",
            "   day_diff  helpful_yes  total_vote  \n",
            "0       138            0           0  \n",
            "1       409            0           0  \n",
            "2       715            0           0  \n",
            "3       382            0           0  \n",
            "4       513            0           0  \n"
          ]
        }
      ]
    },
    {
      "cell_type": "code",
      "source": [
        "# Read in relevant columns\n",
        "reviews = reviews[['reviewerID','reviewText', 'summary', 'day_diff','helpful','overall']]  # Adjust column names as needed\n",
        "# Drop rows where reviewText is missing\n",
        "reviews = reviews[reviews['reviewText'].notna()]\n",
        "# Reset the index to ensure it adjusts dynamically\n",
        "reviews.reset_index(drop=True, inplace=True)"
      ],
      "metadata": {
        "id": "OJ9f0lZURWKC"
      },
      "execution_count": null,
      "outputs": []
    },
    {
      "cell_type": "code",
      "source": [
        "# Step 3: Preprocess 'helpful' column\n",
        "# Split 'helpful' into helpful_yes and total_vote\n",
        "reviews[['helpful_yes', 'total_vote']] = reviews['helpful'].str.strip('[]').str.split(',', expand=True).astype(int)\n",
        "reviews['helpful_ratio'] = reviews['helpful_yes'] / (reviews['total_vote'] + 1)  # Avoid division by zero"
      ],
      "metadata": {
        "id": "RBYgNwUnqBTQ"
      },
      "execution_count": null,
      "outputs": []
    },
    {
      "cell_type": "code",
      "source": [
        "# Step 4: Clean the reviewText and summary using BeautifulSoup\n",
        "def text_cleaning(text):\n",
        "    soup = BeautifulSoup(text, \"html.parser\")\n",
        "    text = re.sub(r'\\[[^]]*\\]', '', soup.get_text())\n",
        "    pattern = r\"[^a-zA-Z0-9\\s,']\"\n",
        "    text = re.sub(pattern, '', text)\n",
        "    return text\n",
        "\n",
        "reviews['cleaned_review'] = reviews['reviewText'].apply(text_cleaning)\n",
        "reviews['cleaned_summary'] = reviews['summary'].apply(text_cleaning)"
      ],
      "metadata": {
        "colab": {
          "base_uri": "https://localhost:8080/"
        },
        "id": "dL-bE67wvxEA",
        "outputId": "ccd0d4c3-a762-49fa-e0e7-6535fe12ece9"
      },
      "execution_count": null,
      "outputs": [
        {
          "output_type": "stream",
          "name": "stderr",
          "text": [
            "<ipython-input-19-e890b14d2a15>:3: MarkupResemblesLocatorWarning: The input looks more like a filename than markup. You may want to open this file and pass the filehandle into Beautiful Soup.\n",
            "  soup = BeautifulSoup(text, \"html.parser\")\n",
            "<ipython-input-19-e890b14d2a15>:3: MarkupResemblesLocatorWarning: The input looks more like a filename than markup. You may want to open this file and pass the filehandle into Beautiful Soup.\n",
            "  soup = BeautifulSoup(text, \"html.parser\")\n"
          ]
        }
      ]
    },
    {
      "cell_type": "code",
      "source": [
        "# Step 5: Convert text features to numerical features using TF-IDF\n",
        "tfidf = TfidfVectorizer(max_features=1000) # max_feature was set to 20% of dataset\n",
        "#tfidf = TfidfVectorizer(max_features=2000) # max_feature experiment -> showed worse values\n",
        "#tfidf = TfidfVectorizer(max_features=3000) # max_feature experiment -> showed worse values\n",
        "reviewText_tfidf = tfidf.fit_transform(reviews['cleaned_review']).toarray()\n",
        "summary_tfidf = tfidf.fit_transform(reviews['cleaned_summary']).toarray()"
      ],
      "metadata": {
        "id": "jpA8Z2SM4132"
      },
      "execution_count": null,
      "outputs": []
    },
    {
      "cell_type": "code",
      "source": [
        "# Step 6: Normalize numerical features\n",
        "scaler = MinMaxScaler()\n",
        "numerical_features = reviews[['helpful_ratio', 'day_diff']]\n",
        "scaled_numerical = scaler.fit_transform(numerical_features)"
      ],
      "metadata": {
        "id": "6iAQlL1xqKwH"
      },
      "execution_count": null,
      "outputs": []
    },
    {
      "cell_type": "code",
      "source": [
        "# Step 7: Combine all features\n",
        "X = np.hstack((reviewText_tfidf, summary_tfidf, scaled_numerical))  # Combine text and numerical features\n",
        "y = reviews['overall'].astype(int)  # Target variable (ratings 1–5)"
      ],
      "metadata": {
        "id": "Z7uus1wi6H4f"
      },
      "execution_count": null,
      "outputs": []
    },
    {
      "cell_type": "code",
      "source": [
        "# Step 8: Split the dataset into training and testing sets\n",
        "# Test size is 20%\n",
        "X_train, X_test, y_train, y_test = train_test_split(X, y, test_size=0.2, random_state=42, stratify = y)\n",
        "X_train.shape, X_test.shape, y_train.shape, y_test.shape"
      ],
      "metadata": {
        "id": "ouXxKFOO6Qnb",
        "colab": {
          "base_uri": "https://localhost:8080/"
        },
        "outputId": "0ff8b662-6bfb-4b5d-ad04-d0554b2b4985"
      },
      "execution_count": null,
      "outputs": [
        {
          "output_type": "execute_result",
          "data": {
            "text/plain": [
              "((3931, 2002), (983, 2002), (3931,), (983,))"
            ]
          },
          "metadata": {},
          "execution_count": 23
        }
      ]
    },
    {
      "cell_type": "code",
      "source": [
        "# Step 9: Train a logistic regression model with regularization\n",
        "log_reg = LogisticRegression(multi_class='multinomial', solver='lbfgs', penalty='l2', C=1, random_state=42)\n",
        "log_reg.fit(X_train, y_train)"
      ],
      "metadata": {
        "colab": {
          "base_uri": "https://localhost:8080/",
          "height": 136
        },
        "id": "ZKoxsAe2dF2b",
        "outputId": "28eb6bd7-1816-4b22-a634-250b465da964"
      },
      "execution_count": null,
      "outputs": [
        {
          "output_type": "stream",
          "name": "stderr",
          "text": [
            "/usr/local/lib/python3.10/dist-packages/sklearn/linear_model/_logistic.py:1247: FutureWarning: 'multi_class' was deprecated in version 1.5 and will be removed in 1.7. From then on, it will always use 'multinomial'. Leave it to its default value to avoid this warning.\n",
            "  warnings.warn(\n"
          ]
        },
        {
          "output_type": "execute_result",
          "data": {
            "text/plain": [
              "LogisticRegression(C=1, multi_class='multinomial', random_state=42)"
            ],
            "text/html": [
              "<style>#sk-container-id-3 {\n",
              "  /* Definition of color scheme common for light and dark mode */\n",
              "  --sklearn-color-text: black;\n",
              "  --sklearn-color-line: gray;\n",
              "  /* Definition of color scheme for unfitted estimators */\n",
              "  --sklearn-color-unfitted-level-0: #fff5e6;\n",
              "  --sklearn-color-unfitted-level-1: #f6e4d2;\n",
              "  --sklearn-color-unfitted-level-2: #ffe0b3;\n",
              "  --sklearn-color-unfitted-level-3: chocolate;\n",
              "  /* Definition of color scheme for fitted estimators */\n",
              "  --sklearn-color-fitted-level-0: #f0f8ff;\n",
              "  --sklearn-color-fitted-level-1: #d4ebff;\n",
              "  --sklearn-color-fitted-level-2: #b3dbfd;\n",
              "  --sklearn-color-fitted-level-3: cornflowerblue;\n",
              "\n",
              "  /* Specific color for light theme */\n",
              "  --sklearn-color-text-on-default-background: var(--sg-text-color, var(--theme-code-foreground, var(--jp-content-font-color1, black)));\n",
              "  --sklearn-color-background: var(--sg-background-color, var(--theme-background, var(--jp-layout-color0, white)));\n",
              "  --sklearn-color-border-box: var(--sg-text-color, var(--theme-code-foreground, var(--jp-content-font-color1, black)));\n",
              "  --sklearn-color-icon: #696969;\n",
              "\n",
              "  @media (prefers-color-scheme: dark) {\n",
              "    /* Redefinition of color scheme for dark theme */\n",
              "    --sklearn-color-text-on-default-background: var(--sg-text-color, var(--theme-code-foreground, var(--jp-content-font-color1, white)));\n",
              "    --sklearn-color-background: var(--sg-background-color, var(--theme-background, var(--jp-layout-color0, #111)));\n",
              "    --sklearn-color-border-box: var(--sg-text-color, var(--theme-code-foreground, var(--jp-content-font-color1, white)));\n",
              "    --sklearn-color-icon: #878787;\n",
              "  }\n",
              "}\n",
              "\n",
              "#sk-container-id-3 {\n",
              "  color: var(--sklearn-color-text);\n",
              "}\n",
              "\n",
              "#sk-container-id-3 pre {\n",
              "  padding: 0;\n",
              "}\n",
              "\n",
              "#sk-container-id-3 input.sk-hidden--visually {\n",
              "  border: 0;\n",
              "  clip: rect(1px 1px 1px 1px);\n",
              "  clip: rect(1px, 1px, 1px, 1px);\n",
              "  height: 1px;\n",
              "  margin: -1px;\n",
              "  overflow: hidden;\n",
              "  padding: 0;\n",
              "  position: absolute;\n",
              "  width: 1px;\n",
              "}\n",
              "\n",
              "#sk-container-id-3 div.sk-dashed-wrapped {\n",
              "  border: 1px dashed var(--sklearn-color-line);\n",
              "  margin: 0 0.4em 0.5em 0.4em;\n",
              "  box-sizing: border-box;\n",
              "  padding-bottom: 0.4em;\n",
              "  background-color: var(--sklearn-color-background);\n",
              "}\n",
              "\n",
              "#sk-container-id-3 div.sk-container {\n",
              "  /* jupyter's `normalize.less` sets `[hidden] { display: none; }`\n",
              "     but bootstrap.min.css set `[hidden] { display: none !important; }`\n",
              "     so we also need the `!important` here to be able to override the\n",
              "     default hidden behavior on the sphinx rendered scikit-learn.org.\n",
              "     See: https://github.com/scikit-learn/scikit-learn/issues/21755 */\n",
              "  display: inline-block !important;\n",
              "  position: relative;\n",
              "}\n",
              "\n",
              "#sk-container-id-3 div.sk-text-repr-fallback {\n",
              "  display: none;\n",
              "}\n",
              "\n",
              "div.sk-parallel-item,\n",
              "div.sk-serial,\n",
              "div.sk-item {\n",
              "  /* draw centered vertical line to link estimators */\n",
              "  background-image: linear-gradient(var(--sklearn-color-text-on-default-background), var(--sklearn-color-text-on-default-background));\n",
              "  background-size: 2px 100%;\n",
              "  background-repeat: no-repeat;\n",
              "  background-position: center center;\n",
              "}\n",
              "\n",
              "/* Parallel-specific style estimator block */\n",
              "\n",
              "#sk-container-id-3 div.sk-parallel-item::after {\n",
              "  content: \"\";\n",
              "  width: 100%;\n",
              "  border-bottom: 2px solid var(--sklearn-color-text-on-default-background);\n",
              "  flex-grow: 1;\n",
              "}\n",
              "\n",
              "#sk-container-id-3 div.sk-parallel {\n",
              "  display: flex;\n",
              "  align-items: stretch;\n",
              "  justify-content: center;\n",
              "  background-color: var(--sklearn-color-background);\n",
              "  position: relative;\n",
              "}\n",
              "\n",
              "#sk-container-id-3 div.sk-parallel-item {\n",
              "  display: flex;\n",
              "  flex-direction: column;\n",
              "}\n",
              "\n",
              "#sk-container-id-3 div.sk-parallel-item:first-child::after {\n",
              "  align-self: flex-end;\n",
              "  width: 50%;\n",
              "}\n",
              "\n",
              "#sk-container-id-3 div.sk-parallel-item:last-child::after {\n",
              "  align-self: flex-start;\n",
              "  width: 50%;\n",
              "}\n",
              "\n",
              "#sk-container-id-3 div.sk-parallel-item:only-child::after {\n",
              "  width: 0;\n",
              "}\n",
              "\n",
              "/* Serial-specific style estimator block */\n",
              "\n",
              "#sk-container-id-3 div.sk-serial {\n",
              "  display: flex;\n",
              "  flex-direction: column;\n",
              "  align-items: center;\n",
              "  background-color: var(--sklearn-color-background);\n",
              "  padding-right: 1em;\n",
              "  padding-left: 1em;\n",
              "}\n",
              "\n",
              "\n",
              "/* Toggleable style: style used for estimator/Pipeline/ColumnTransformer box that is\n",
              "clickable and can be expanded/collapsed.\n",
              "- Pipeline and ColumnTransformer use this feature and define the default style\n",
              "- Estimators will overwrite some part of the style using the `sk-estimator` class\n",
              "*/\n",
              "\n",
              "/* Pipeline and ColumnTransformer style (default) */\n",
              "\n",
              "#sk-container-id-3 div.sk-toggleable {\n",
              "  /* Default theme specific background. It is overwritten whether we have a\n",
              "  specific estimator or a Pipeline/ColumnTransformer */\n",
              "  background-color: var(--sklearn-color-background);\n",
              "}\n",
              "\n",
              "/* Toggleable label */\n",
              "#sk-container-id-3 label.sk-toggleable__label {\n",
              "  cursor: pointer;\n",
              "  display: block;\n",
              "  width: 100%;\n",
              "  margin-bottom: 0;\n",
              "  padding: 0.5em;\n",
              "  box-sizing: border-box;\n",
              "  text-align: center;\n",
              "}\n",
              "\n",
              "#sk-container-id-3 label.sk-toggleable__label-arrow:before {\n",
              "  /* Arrow on the left of the label */\n",
              "  content: \"▸\";\n",
              "  float: left;\n",
              "  margin-right: 0.25em;\n",
              "  color: var(--sklearn-color-icon);\n",
              "}\n",
              "\n",
              "#sk-container-id-3 label.sk-toggleable__label-arrow:hover:before {\n",
              "  color: var(--sklearn-color-text);\n",
              "}\n",
              "\n",
              "/* Toggleable content - dropdown */\n",
              "\n",
              "#sk-container-id-3 div.sk-toggleable__content {\n",
              "  max-height: 0;\n",
              "  max-width: 0;\n",
              "  overflow: hidden;\n",
              "  text-align: left;\n",
              "  /* unfitted */\n",
              "  background-color: var(--sklearn-color-unfitted-level-0);\n",
              "}\n",
              "\n",
              "#sk-container-id-3 div.sk-toggleable__content.fitted {\n",
              "  /* fitted */\n",
              "  background-color: var(--sklearn-color-fitted-level-0);\n",
              "}\n",
              "\n",
              "#sk-container-id-3 div.sk-toggleable__content pre {\n",
              "  margin: 0.2em;\n",
              "  border-radius: 0.25em;\n",
              "  color: var(--sklearn-color-text);\n",
              "  /* unfitted */\n",
              "  background-color: var(--sklearn-color-unfitted-level-0);\n",
              "}\n",
              "\n",
              "#sk-container-id-3 div.sk-toggleable__content.fitted pre {\n",
              "  /* unfitted */\n",
              "  background-color: var(--sklearn-color-fitted-level-0);\n",
              "}\n",
              "\n",
              "#sk-container-id-3 input.sk-toggleable__control:checked~div.sk-toggleable__content {\n",
              "  /* Expand drop-down */\n",
              "  max-height: 200px;\n",
              "  max-width: 100%;\n",
              "  overflow: auto;\n",
              "}\n",
              "\n",
              "#sk-container-id-3 input.sk-toggleable__control:checked~label.sk-toggleable__label-arrow:before {\n",
              "  content: \"▾\";\n",
              "}\n",
              "\n",
              "/* Pipeline/ColumnTransformer-specific style */\n",
              "\n",
              "#sk-container-id-3 div.sk-label input.sk-toggleable__control:checked~label.sk-toggleable__label {\n",
              "  color: var(--sklearn-color-text);\n",
              "  background-color: var(--sklearn-color-unfitted-level-2);\n",
              "}\n",
              "\n",
              "#sk-container-id-3 div.sk-label.fitted input.sk-toggleable__control:checked~label.sk-toggleable__label {\n",
              "  background-color: var(--sklearn-color-fitted-level-2);\n",
              "}\n",
              "\n",
              "/* Estimator-specific style */\n",
              "\n",
              "/* Colorize estimator box */\n",
              "#sk-container-id-3 div.sk-estimator input.sk-toggleable__control:checked~label.sk-toggleable__label {\n",
              "  /* unfitted */\n",
              "  background-color: var(--sklearn-color-unfitted-level-2);\n",
              "}\n",
              "\n",
              "#sk-container-id-3 div.sk-estimator.fitted input.sk-toggleable__control:checked~label.sk-toggleable__label {\n",
              "  /* fitted */\n",
              "  background-color: var(--sklearn-color-fitted-level-2);\n",
              "}\n",
              "\n",
              "#sk-container-id-3 div.sk-label label.sk-toggleable__label,\n",
              "#sk-container-id-3 div.sk-label label {\n",
              "  /* The background is the default theme color */\n",
              "  color: var(--sklearn-color-text-on-default-background);\n",
              "}\n",
              "\n",
              "/* On hover, darken the color of the background */\n",
              "#sk-container-id-3 div.sk-label:hover label.sk-toggleable__label {\n",
              "  color: var(--sklearn-color-text);\n",
              "  background-color: var(--sklearn-color-unfitted-level-2);\n",
              "}\n",
              "\n",
              "/* Label box, darken color on hover, fitted */\n",
              "#sk-container-id-3 div.sk-label.fitted:hover label.sk-toggleable__label.fitted {\n",
              "  color: var(--sklearn-color-text);\n",
              "  background-color: var(--sklearn-color-fitted-level-2);\n",
              "}\n",
              "\n",
              "/* Estimator label */\n",
              "\n",
              "#sk-container-id-3 div.sk-label label {\n",
              "  font-family: monospace;\n",
              "  font-weight: bold;\n",
              "  display: inline-block;\n",
              "  line-height: 1.2em;\n",
              "}\n",
              "\n",
              "#sk-container-id-3 div.sk-label-container {\n",
              "  text-align: center;\n",
              "}\n",
              "\n",
              "/* Estimator-specific */\n",
              "#sk-container-id-3 div.sk-estimator {\n",
              "  font-family: monospace;\n",
              "  border: 1px dotted var(--sklearn-color-border-box);\n",
              "  border-radius: 0.25em;\n",
              "  box-sizing: border-box;\n",
              "  margin-bottom: 0.5em;\n",
              "  /* unfitted */\n",
              "  background-color: var(--sklearn-color-unfitted-level-0);\n",
              "}\n",
              "\n",
              "#sk-container-id-3 div.sk-estimator.fitted {\n",
              "  /* fitted */\n",
              "  background-color: var(--sklearn-color-fitted-level-0);\n",
              "}\n",
              "\n",
              "/* on hover */\n",
              "#sk-container-id-3 div.sk-estimator:hover {\n",
              "  /* unfitted */\n",
              "  background-color: var(--sklearn-color-unfitted-level-2);\n",
              "}\n",
              "\n",
              "#sk-container-id-3 div.sk-estimator.fitted:hover {\n",
              "  /* fitted */\n",
              "  background-color: var(--sklearn-color-fitted-level-2);\n",
              "}\n",
              "\n",
              "/* Specification for estimator info (e.g. \"i\" and \"?\") */\n",
              "\n",
              "/* Common style for \"i\" and \"?\" */\n",
              "\n",
              ".sk-estimator-doc-link,\n",
              "a:link.sk-estimator-doc-link,\n",
              "a:visited.sk-estimator-doc-link {\n",
              "  float: right;\n",
              "  font-size: smaller;\n",
              "  line-height: 1em;\n",
              "  font-family: monospace;\n",
              "  background-color: var(--sklearn-color-background);\n",
              "  border-radius: 1em;\n",
              "  height: 1em;\n",
              "  width: 1em;\n",
              "  text-decoration: none !important;\n",
              "  margin-left: 1ex;\n",
              "  /* unfitted */\n",
              "  border: var(--sklearn-color-unfitted-level-1) 1pt solid;\n",
              "  color: var(--sklearn-color-unfitted-level-1);\n",
              "}\n",
              "\n",
              ".sk-estimator-doc-link.fitted,\n",
              "a:link.sk-estimator-doc-link.fitted,\n",
              "a:visited.sk-estimator-doc-link.fitted {\n",
              "  /* fitted */\n",
              "  border: var(--sklearn-color-fitted-level-1) 1pt solid;\n",
              "  color: var(--sklearn-color-fitted-level-1);\n",
              "}\n",
              "\n",
              "/* On hover */\n",
              "div.sk-estimator:hover .sk-estimator-doc-link:hover,\n",
              ".sk-estimator-doc-link:hover,\n",
              "div.sk-label-container:hover .sk-estimator-doc-link:hover,\n",
              ".sk-estimator-doc-link:hover {\n",
              "  /* unfitted */\n",
              "  background-color: var(--sklearn-color-unfitted-level-3);\n",
              "  color: var(--sklearn-color-background);\n",
              "  text-decoration: none;\n",
              "}\n",
              "\n",
              "div.sk-estimator.fitted:hover .sk-estimator-doc-link.fitted:hover,\n",
              ".sk-estimator-doc-link.fitted:hover,\n",
              "div.sk-label-container:hover .sk-estimator-doc-link.fitted:hover,\n",
              ".sk-estimator-doc-link.fitted:hover {\n",
              "  /* fitted */\n",
              "  background-color: var(--sklearn-color-fitted-level-3);\n",
              "  color: var(--sklearn-color-background);\n",
              "  text-decoration: none;\n",
              "}\n",
              "\n",
              "/* Span, style for the box shown on hovering the info icon */\n",
              ".sk-estimator-doc-link span {\n",
              "  display: none;\n",
              "  z-index: 9999;\n",
              "  position: relative;\n",
              "  font-weight: normal;\n",
              "  right: .2ex;\n",
              "  padding: .5ex;\n",
              "  margin: .5ex;\n",
              "  width: min-content;\n",
              "  min-width: 20ex;\n",
              "  max-width: 50ex;\n",
              "  color: var(--sklearn-color-text);\n",
              "  box-shadow: 2pt 2pt 4pt #999;\n",
              "  /* unfitted */\n",
              "  background: var(--sklearn-color-unfitted-level-0);\n",
              "  border: .5pt solid var(--sklearn-color-unfitted-level-3);\n",
              "}\n",
              "\n",
              ".sk-estimator-doc-link.fitted span {\n",
              "  /* fitted */\n",
              "  background: var(--sklearn-color-fitted-level-0);\n",
              "  border: var(--sklearn-color-fitted-level-3);\n",
              "}\n",
              "\n",
              ".sk-estimator-doc-link:hover span {\n",
              "  display: block;\n",
              "}\n",
              "\n",
              "/* \"?\"-specific style due to the `<a>` HTML tag */\n",
              "\n",
              "#sk-container-id-3 a.estimator_doc_link {\n",
              "  float: right;\n",
              "  font-size: 1rem;\n",
              "  line-height: 1em;\n",
              "  font-family: monospace;\n",
              "  background-color: var(--sklearn-color-background);\n",
              "  border-radius: 1rem;\n",
              "  height: 1rem;\n",
              "  width: 1rem;\n",
              "  text-decoration: none;\n",
              "  /* unfitted */\n",
              "  color: var(--sklearn-color-unfitted-level-1);\n",
              "  border: var(--sklearn-color-unfitted-level-1) 1pt solid;\n",
              "}\n",
              "\n",
              "#sk-container-id-3 a.estimator_doc_link.fitted {\n",
              "  /* fitted */\n",
              "  border: var(--sklearn-color-fitted-level-1) 1pt solid;\n",
              "  color: var(--sklearn-color-fitted-level-1);\n",
              "}\n",
              "\n",
              "/* On hover */\n",
              "#sk-container-id-3 a.estimator_doc_link:hover {\n",
              "  /* unfitted */\n",
              "  background-color: var(--sklearn-color-unfitted-level-3);\n",
              "  color: var(--sklearn-color-background);\n",
              "  text-decoration: none;\n",
              "}\n",
              "\n",
              "#sk-container-id-3 a.estimator_doc_link.fitted:hover {\n",
              "  /* fitted */\n",
              "  background-color: var(--sklearn-color-fitted-level-3);\n",
              "}\n",
              "</style><div id=\"sk-container-id-3\" class=\"sk-top-container\"><div class=\"sk-text-repr-fallback\"><pre>LogisticRegression(C=1, multi_class=&#x27;multinomial&#x27;, random_state=42)</pre><b>In a Jupyter environment, please rerun this cell to show the HTML representation or trust the notebook. <br />On GitHub, the HTML representation is unable to render, please try loading this page with nbviewer.org.</b></div><div class=\"sk-container\" hidden><div class=\"sk-item\"><div class=\"sk-estimator fitted sk-toggleable\"><input class=\"sk-toggleable__control sk-hidden--visually\" id=\"sk-estimator-id-3\" type=\"checkbox\" checked><label for=\"sk-estimator-id-3\" class=\"sk-toggleable__label fitted sk-toggleable__label-arrow fitted\">&nbsp;&nbsp;LogisticRegression<a class=\"sk-estimator-doc-link fitted\" rel=\"noreferrer\" target=\"_blank\" href=\"https://scikit-learn.org/1.5/modules/generated/sklearn.linear_model.LogisticRegression.html\">?<span>Documentation for LogisticRegression</span></a><span class=\"sk-estimator-doc-link fitted\">i<span>Fitted</span></span></label><div class=\"sk-toggleable__content fitted\"><pre>LogisticRegression(C=1, multi_class=&#x27;multinomial&#x27;, random_state=42)</pre></div> </div></div></div></div>"
            ]
          },
          "metadata": {},
          "execution_count": 24
        }
      ]
    },
    {
      "cell_type": "code",
      "source": [
        "# Step 10: Make predictions and evaluate the model\n",
        "y_pred = log_reg.predict(X_test)\n",
        "print(\"Accuracy:\", accuracy_score(y_test, y_pred))\n",
        "print(\"\\nClassification Report:\\n\", classification_report(y_test, y_pred))"
      ],
      "metadata": {
        "colab": {
          "base_uri": "https://localhost:8080/"
        },
        "id": "XCZjhE966f-j",
        "outputId": "1a75b17d-fe38-4e73-8715-cb3d7596d50f"
      },
      "execution_count": null,
      "outputs": [
        {
          "output_type": "stream",
          "name": "stdout",
          "text": [
            "Accuracy: 0.8240081383519837\n",
            "\n",
            "Classification Report:\n",
            "               precision    recall  f1-score   support\n",
            "\n",
            "           1       0.69      0.55      0.61        49\n",
            "           2       0.00      0.00      0.00        16\n",
            "           3       0.14      0.04      0.06        28\n",
            "           4       0.28      0.05      0.08       106\n",
            "           5       0.85      0.99      0.91       784\n",
            "\n",
            "    accuracy                           0.82       983\n",
            "   macro avg       0.39      0.32      0.33       983\n",
            "weighted avg       0.74      0.82      0.77       983\n",
            "\n"
          ]
        },
        {
          "output_type": "stream",
          "name": "stderr",
          "text": [
            "/usr/local/lib/python3.10/dist-packages/sklearn/metrics/_classification.py:1531: UndefinedMetricWarning: Precision is ill-defined and being set to 0.0 in labels with no predicted samples. Use `zero_division` parameter to control this behavior.\n",
            "  _warn_prf(average, modifier, f\"{metric.capitalize()} is\", len(result))\n",
            "/usr/local/lib/python3.10/dist-packages/sklearn/metrics/_classification.py:1531: UndefinedMetricWarning: Precision is ill-defined and being set to 0.0 in labels with no predicted samples. Use `zero_division` parameter to control this behavior.\n",
            "  _warn_prf(average, modifier, f\"{metric.capitalize()} is\", len(result))\n",
            "/usr/local/lib/python3.10/dist-packages/sklearn/metrics/_classification.py:1531: UndefinedMetricWarning: Precision is ill-defined and being set to 0.0 in labels with no predicted samples. Use `zero_division` parameter to control this behavior.\n",
            "  _warn_prf(average, modifier, f\"{metric.capitalize()} is\", len(result))\n"
          ]
        }
      ]
    },
    {
      "cell_type": "code",
      "source": [
        "# Print the first few values of y_test, y_pred, and corresponding reviewerText\n",
        "print(\"y_test values:\")\n",
        "for i in range(5):\n",
        "    print(f\"Index: {i}\")\n",
        "    print(f\"y_test: {y_test.iloc[i]}\")\n",
        "    print(f\"ReviewText: {reviews.iloc[i]['reviewText']}\")\n",
        "\n",
        "print(\"\\ny_pred values:\")\n",
        "for i in range(5):  # Print first few predicted values\n",
        "    print(f\"Index: {i}\")\n",
        "    print(f\"y_pred: {y_pred[i]}\")\n",
        "    print(f\"ReviewText: {reviews.iloc[i]['reviewText']}\")"
      ],
      "metadata": {
        "colab": {
          "base_uri": "https://localhost:8080/"
        },
        "id": "9xDGqhW8UCnb",
        "outputId": "f0e895e9-7d60-4388-cb0c-90402094e040"
      },
      "execution_count": null,
      "outputs": [
        {
          "output_type": "stream",
          "name": "stdout",
          "text": [
            "y_test values:\n",
            "Index: 0\n",
            "y_test: 4\n",
            "ReviewText: No issues.\n",
            "Index: 1\n",
            "y_test: 5\n",
            "ReviewText: Purchased this for my device, it worked as advertised. You can never have too much phone memory, since I download a lot of stuff this was a no brainer for me.\n",
            "Index: 2\n",
            "y_test: 5\n",
            "ReviewText: it works as expected. I should have sprung for the higher capacity.  I think its made a bit cheesier than the earlier versions; the paint looks not as clean as before\n",
            "Index: 3\n",
            "y_test: 5\n",
            "ReviewText: This think has worked out great.Had a diff. bran 64gb card and if went south after 3 months.This one has held up pretty well since I had my S3, now on my Note3.*** update 3/21/14I've had this for a few months and have had ZERO issue's since it was transferred from my S3 to my Note3 and into a note2. This card is reliable and solid!Cheers!\n",
            "Index: 4\n",
            "y_test: 5\n",
            "ReviewText: Bought it with Retail Packaging, arrived legit, in a orange envelope, english version not asian like the picture shows. arrived quickly, bought a 32 and 16 both retail packaging for my htc one sv and Lg Optimus, both cards in working order, probably best price you'll get for a nice sd card\n",
            "\n",
            "y_pred values:\n",
            "Index: 0\n",
            "y_pred: 5\n",
            "ReviewText: No issues.\n",
            "Index: 1\n",
            "y_pred: 5\n",
            "ReviewText: Purchased this for my device, it worked as advertised. You can never have too much phone memory, since I download a lot of stuff this was a no brainer for me.\n",
            "Index: 2\n",
            "y_pred: 5\n",
            "ReviewText: it works as expected. I should have sprung for the higher capacity.  I think its made a bit cheesier than the earlier versions; the paint looks not as clean as before\n",
            "Index: 3\n",
            "y_pred: 5\n",
            "ReviewText: This think has worked out great.Had a diff. bran 64gb card and if went south after 3 months.This one has held up pretty well since I had my S3, now on my Note3.*** update 3/21/14I've had this for a few months and have had ZERO issue's since it was transferred from my S3 to my Note3 and into a note2. This card is reliable and solid!Cheers!\n",
            "Index: 4\n",
            "y_pred: 5\n",
            "ReviewText: Bought it with Retail Packaging, arrived legit, in a orange envelope, english version not asian like the picture shows. arrived quickly, bought a 32 and 16 both retail packaging for my htc one sv and Lg Optimus, both cards in working order, probably best price you'll get for a nice sd card\n"
          ]
        }
      ]
    },
    {
      "cell_type": "code",
      "source": [
        "import matplotlib.pyplot as plt\n",
        "import seaborn as sns\n",
        "from sklearn.metrics import confusion_matrix\n",
        "\n",
        "# Step 11: Confusion Matrix\n",
        "# Generate the confusion matrix\n",
        "conf_matrix = confusion_matrix(y_test, y_pred)\n",
        "\n",
        "# Plot the confusion matrix\n",
        "plt.figure(figsize=(8, 6))\n",
        "sns.heatmap(conf_matrix, annot=True, fmt='d', cmap='Blues', xticklabels=np.unique(y), yticklabels=np.unique(y))\n",
        "plt.xlabel('Predicted Labels')\n",
        "plt.ylabel('True Labels')\n",
        "plt.title('Confusion Matrix')\n",
        "plt.show()"
      ],
      "metadata": {
        "colab": {
          "base_uri": "https://localhost:8080/",
          "height": 564
        },
        "id": "aOSqomP8x6YP",
        "outputId": "297f2be6-eb51-4d42-fb4c-c547ffc00c7a"
      },
      "execution_count": null,
      "outputs": [
        {
          "output_type": "display_data",
          "data": {
            "text/plain": [
              "<Figure size 800x600 with 2 Axes>"
            ],
            "image/png": "[encoded data removed]"
          },
          "metadata": {}
        }
      ]
    },
    {
      "cell_type": "code",
      "source": [
        "# Identify mismatch indices\n",
        "mismatch_indices = np.where((y_pred == 5) & (y_test == 4))[0]\n",
        "\n",
        "# Access mismatched texts (assuming the original texts are stored in reviews)\n",
        "mismatched_texts = reviews.iloc[mismatch_indices][['reviewerID','reviewText', 'overall']]\n",
        "\n",
        "# Filter to print only those with an overall rating of 4.0\n",
        "filtered_texts = mismatched_texts[mismatched_texts['overall'] == 4.0]\n",
        "\n",
        "# Limit to the first ten mismatched texts\n",
        "limited_texts = filtered_texts.head(10)\n",
        "\n",
        "# Print the limited mismatched texts\n",
        "print(\"Texts predicted as class 5 but true label is 4.0 (limited to first 10):\")\n",
        "for _, row in limited_texts.iterrows():\n",
        "    review_text = row['reviewText']\n",
        "    # Split text into two lines if it's too long\n",
        "    if len(review_text) > 100:  # adjust 100 as needed based on line length\n",
        "        lines = [review_text[i:i+100] for i in range(0, len(review_text), 100)]\n",
        "        for line in lines:\n",
        "            print(f\"ReviewText: {line}\")\n",
        "    else:\n",
        "        print(f\"ReviewText: {review_text}\")\n",
        "    print(f\"Overall: {row['overall']}\\n\")\n"
      ],
      "metadata": {
        "colab": {
          "base_uri": "https://localhost:8080/"
        },
        "id": "AheRvrUWUA_P",
        "outputId": "6f3aaca7-21d4-4dc2-a26c-9e611650f4f5"
      },
      "execution_count": null,
      "outputs": [
        {
          "output_type": "stream",
          "name": "stdout",
          "text": [
            "Texts predicted as class 5 but true label is 4.0 (limited to first 10):\n",
            "ReviewText: No issues.\n",
            "Overall: 4.0\n",
            "\n",
            "ReviewText: Initially when I inserted the card into the Samsung Galaxy S3 it recognized it but it wasn't able to\n",
            "ReviewText:  format it correctly. After doing some research I found a free program EaseUS Partition Master [...]\n",
            "ReviewText:  that will format the card into FAT 32 since Windows no longer allows you to do it by default. After\n",
            "ReviewText:  formatting it into fat 32 the phone recognized the card and it works great now. I hope this helps a\n",
            "ReviewText: nyone else that might run into this problem.\n",
            "Overall: 4.0\n",
            "\n",
            "ReviewText: Performs as it is supposed to. 16gb is quite a lot of storage plus my Samsung Galaxy has 15 gb of in\n",
            "ReviewText: ternal memory for a total of 32 gb. That's plenty enough to store hundreds of hours of music,\n",
            "Overall: 4.0\n",
            "\n",
            "ReviewText: As new products evolve they only accept SD and microSD cards. I've had good luck with SanDisk and th\n",
            "ReviewText: is is no exception.\n",
            "Overall: 4.0\n",
            "\n",
            "ReviewText: What can I say SanDisk has the micro SD figured out.  Works with Asus Memo pad hd 7, movies for long\n",
            "ReviewText:  trips.\n",
            "Overall: 4.0\n",
            "\n",
            "ReviewText: seems to be working just fine...bought as a gift for a family member and they're using it for video \n",
            "ReviewText: recording.\n",
            "Overall: 4.0\n",
            "\n",
            "ReviewText: Good card at a good price but I bought it specifically for my gopro camera. Even though its a class \n",
            "ReviewText: 10, its not fast enough to record on the higher quality settings. I guess not all class 10 are the s\n",
            "ReviewText: ame even among the exact same cards. You will need to buy the extreme version for gopro.\n",
            "Overall: 4.0\n",
            "\n",
            "ReviewText: i used it on my sony as15. been using it for almost a month now and i have yet to encounter any prob\n",
            "ReviewText: lem\n",
            "Overall: 4.0\n",
            "\n",
            "ReviewText: The only thing is if you use this product on Andiod you must format .  Windows machines don't seem t\n",
            "ReviewText: o supot FAT32  .  winwods machines will open files but the format program on Win only formats NTFS a\n",
            "ReviewText: nd EXFAT  which is limting because Andriod uses FAT32.\n",
            "Overall: 4.0\n",
            "\n",
            "ReviewText: So far its been fine, no problems other than when installed phone only read 59.45GB instead of the 6\n",
            "ReviewText: 4 GB, thats the reason I'm only giving it 4 stars.  If anyone can give me a answer why it only read \n",
            "ReviewText: 59 instead of the 64 please let me know!\n",
            "Overall: 4.0\n",
            "\n"
          ]
        }
      ]
    },
    {
      "cell_type": "markdown",
      "source": [
        "## Random Forest Regression"
      ],
      "metadata": {
        "id": "w8hU3ztmIhXw"
      }
    },
    {
      "cell_type": "code",
      "source": [
        "# Train Random Forest Classifier\n",
        "# Class weight balance\n",
        "rf = RandomForestClassifier(n_estimators=100, max_depth=None, class_weight='balanced', random_state=42)\n",
        "rf.fit(X_train, y_train)\n",
        "\n",
        "# Evaluate Model\n",
        "y_pred = rf.predict(X_test)\n",
        "print(\"Accuracy:\", accuracy_score(y_test, y_pred))\n",
        "print(\"\\nClassification Report:\\n\", classification_report(y_test, y_pred))"
      ],
      "metadata": {
        "colab": {
          "base_uri": "https://localhost:8080/"
        },
        "id": "LmeAvvsxJo9L",
        "outputId": "2213e6f5-ebed-4d6e-dde2-f64f2cdae56c"
      },
      "execution_count": null,
      "outputs": [
        {
          "output_type": "stream",
          "name": "stdout",
          "text": [
            "Accuracy: 0.8016276703967447\n",
            "\n",
            "Classification Report:\n",
            "               precision    recall  f1-score   support\n",
            "\n",
            "           1       1.00      0.10      0.19        49\n",
            "           2       0.00      0.00      0.00        16\n",
            "           3       0.00      0.00      0.00        28\n",
            "           4       0.00      0.00      0.00       106\n",
            "           5       0.80      1.00      0.89       784\n",
            "\n",
            "    accuracy                           0.80       983\n",
            "   macro avg       0.36      0.22      0.21       983\n",
            "weighted avg       0.69      0.80      0.72       983\n",
            "\n"
          ]
        },
        {
          "output_type": "stream",
          "name": "stderr",
          "text": [
            "/usr/local/lib/python3.10/dist-packages/sklearn/metrics/_classification.py:1531: UndefinedMetricWarning: Precision is ill-defined and being set to 0.0 in labels with no predicted samples. Use `zero_division` parameter to control this behavior.\n",
            "  _warn_prf(average, modifier, f\"{metric.capitalize()} is\", len(result))\n",
            "/usr/local/lib/python3.10/dist-packages/sklearn/metrics/_classification.py:1531: UndefinedMetricWarning: Precision is ill-defined and being set to 0.0 in labels with no predicted samples. Use `zero_division` parameter to control this behavior.\n",
            "  _warn_prf(average, modifier, f\"{metric.capitalize()} is\", len(result))\n",
            "/usr/local/lib/python3.10/dist-packages/sklearn/metrics/_classification.py:1531: UndefinedMetricWarning: Precision is ill-defined and being set to 0.0 in labels with no predicted samples. Use `zero_division` parameter to control this behavior.\n",
            "  _warn_prf(average, modifier, f\"{metric.capitalize()} is\", len(result))\n"
          ]
        }
      ]
    },
    {
      "cell_type": "code",
      "source": [
        "# Generate the confusion matrix\n",
        "conf_matrix = confusion_matrix(y_test, y_pred)\n",
        "\n",
        "# Plot the confusion matrix\n",
        "plt.figure(figsize=(8, 6))\n",
        "sns.heatmap(conf_matrix, annot=True, fmt='d', cmap='Blues', xticklabels=np.unique(y), yticklabels=np.unique(y))\n",
        "plt.xlabel('Predicted Labels')\n",
        "plt.ylabel('True Labels')\n",
        "plt.title('Confusion Matrix')\n",
        "plt.show()"
      ],
      "metadata": {
        "colab": {
          "base_uri": "https://localhost:8080/",
          "height": 564
        },
        "id": "25fDJuZnMFbE",
        "outputId": "8d0c9ddd-0113-454e-e667-e2f9e33841b1"
      },
      "execution_count": null,
      "outputs": [
        {
          "output_type": "display_data",
          "data": {
            "text/plain": [
              "<Figure size 800x600 with 2 Axes>"
            ],
            "image/png": "[encoded data removed]"
          },
          "metadata": {}
        }
      ]
    },
    {
      "cell_type": "code",
      "source": [
        "# Identify mismatch indices\n",
        "mismatch_indices = np.where((y_pred == 5.0) & (y_test == 4.0))[0]\n",
        "\n",
        "# Access mismatched texts (assuming the original texts are stored in reviews)\n",
        "mismatched_texts = reviews.iloc[mismatch_indices][['reviewerID','reviewText', 'overall']]\n",
        "\n",
        "# Filter to print only those with an overall rating of 4.0\n",
        "filtered_texts = mismatched_texts[mismatched_texts['overall'] == 4.0]\n",
        "\n",
        "# Print the limited mismatched texts\n",
        "print(\"Texts predicted as class 5 but true label is 4.0 (limited to first 10):\")\n",
        "for _, row in limited_texts.iterrows():\n",
        "    print(f\"\\nReviewerID: {row['reviewerID']}\")\n",
        "    print(f\"ReviewText: {row['reviewText']}\")\n",
        "    print(f\"Overall: {row['overall']}\")"
      ],
      "metadata": {
        "id": "K9d58czaXjvv",
        "outputId": "d5ae6309-de26-41e5-afa7-7ac16e2d6cc7",
        "colab": {
          "base_uri": "https://localhost:8080/"
        }
      },
      "execution_count": null,
      "outputs": [
        {
          "output_type": "stream",
          "name": "stdout",
          "text": [
            "Texts predicted as class 5 but true label is 4.0 (limited to first 10):\n",
            "\n",
            "ReviewerID: A3SBTW3WS4IQSN\n",
            "ReviewText: No issues.\n",
            "Overall: 4.0\n",
            "\n",
            "ReviewerID: AKOX2LZVYTAO5\n",
            "ReviewText: Initially when I inserted the card into the Samsung Galaxy S3 it recognized it but it wasn't able to format it correctly. After doing some research I found a free program EaseUS Partition Master [...] that will format the card into FAT 32 since Windows no longer allows you to do it by default. After formatting it into fat 32 the phone recognized the card and it works great now. I hope this helps anyone else that might run into this problem.\n",
            "Overall: 4.0\n",
            "\n",
            "ReviewerID: A16J4XHQ22VE7Q\n",
            "ReviewText: Performs as it is supposed to. 16gb is quite a lot of storage plus my Samsung Galaxy has 15 gb of internal memory for a total of 32 gb. That's plenty enough to store hundreds of hours of music,\n",
            "Overall: 4.0\n",
            "\n",
            "ReviewerID: ASYDHCSXHJAF8\n",
            "ReviewText: As new products evolve they only accept SD and microSD cards. I've had good luck with SanDisk and this is no exception.\n",
            "Overall: 4.0\n",
            "\n",
            "ReviewerID: AMXF79XY7Z3HK\n",
            "ReviewText: What can I say SanDisk has the micro SD figured out.  Works with Asus Memo pad hd 7, movies for long trips.\n",
            "Overall: 4.0\n",
            "\n",
            "ReviewerID: A31BLJ7PD6AQVD\n",
            "ReviewText: seems to be working just fine...bought as a gift for a family member and they're using it for video recording.\n",
            "Overall: 4.0\n",
            "\n",
            "ReviewerID: A12MYOWBIPGYAJ\n",
            "ReviewText: Good card at a good price but I bought it specifically for my gopro camera. Even though its a class 10, its not fast enough to record on the higher quality settings. I guess not all class 10 are the same even among the exact same cards. You will need to buy the extreme version for gopro.\n",
            "Overall: 4.0\n",
            "\n",
            "ReviewerID: A2T7B68E2259QR\n",
            "ReviewText: i used it on my sony as15. been using it for almost a month now and i have yet to encounter any problem\n",
            "Overall: 4.0\n",
            "\n",
            "ReviewerID: AU0QTPK0WHV0B\n",
            "ReviewText: The only thing is if you use this product on Andiod you must format .  Windows machines don't seem to supot FAT32  .  winwods machines will open files but the format program on Win only formats NTFS and EXFAT  which is limting because Andriod uses FAT32.\n",
            "Overall: 4.0\n",
            "\n",
            "ReviewerID: A3PZJ02SO5KZ7L\n",
            "ReviewText: So far its been fine, no problems other than when installed phone only read 59.45GB instead of the 64 GB, thats the reason I'm only giving it 4 stars.  If anyone can give me a answer why it only read 59 instead of the 64 please let me know!\n",
            "Overall: 4.0\n"
          ]
        }
      ]
    }
  ]
}