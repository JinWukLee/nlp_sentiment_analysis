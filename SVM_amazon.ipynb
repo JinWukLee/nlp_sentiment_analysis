{
  "cells": [
    {
      "cell_type": "code",
      "execution_count": null,
      "metadata": {
        "id": "iQJfW0teb9Z2"
      },
      "outputs": [],
      "source": [
        "from sklearn.feature_extraction.text import TfidfVectorizer\n",
        "import time\n",
        "from sklearn import svm\n",
        "from sklearn.metrics import classification_report\n",
        "import pandas as pd"
      ]
    },
    {
      "cell_type": "code",
      "execution_count": null,
      "metadata": {
        "id": "YBKlU953jMsT"
      },
      "outputs": [],
      "source": [
        "import pandas as pd\n",
        "import numpy as np\n",
        "from sklearn.model_selection import train_test_split\n",
        "from sklearn.metrics import classification_report\n",
        "from sklearn.linear_model import LogisticRegression\n",
        "from sklearn.svm import SVC\n",
        "\n",
        "from transformers import BertTokenizer, BertModel\n",
        "from transformers import Trainer, TrainingArguments\n",
        "\n",
        "import torch\n",
        "from torch.utils.data import Dataset, DataLoader\n",
        "\n",
        "from bs4 import BeautifulSoup\n",
        "import re\n",
        "from wordcloud import WordCloud, STOPWORDS\n",
        "import matplotlib.pyplot as plt"
      ]
    },
    {
      "cell_type": "code",
      "execution_count": null,
      "metadata": {
        "colab": {
          "base_uri": "https://localhost:8080/",
          "height": 107
        },
        "id": "0olBdu1rcDVe",
        "outputId": "23f6e3a1-4358-4e32-f8dd-9df3df07e129"
      },
      "outputs": [
        {
          "name": "stdout",
          "output_type": "stream",
          "text": [
            "Drive already mounted at /content/drive; to attempt to forcibly remount, call drive.mount(\"/content/drive\", force_remount=True).\n"
          ]
        },
        {
          "name": "stderr",
          "output_type": "stream",
          "text": [
            "<ipython-input-20-e28be4481b0c>:11: MarkupResemblesLocatorWarning: The input looks more like a filename than markup. You may want to open this file and pass the filehandle into Beautiful Soup.\n",
            "  soup = BeautifulSoup(text, \"html.parser\")\n"
          ]
        },
        {
          "data": {
            "application/vnd.google.colaboratory.intrinsic+json": {
              "type": "string"
            },
            "text/plain": [
              "\"trainData['Label'] = trainData['Label'].astype(int)\\ntestData['Label'] = testData['Label'].astype(int)\\n\""
            ]
          },
          "execution_count": 20,
          "metadata": {},
          "output_type": "execute_result"
        }
      ],
      "source": [
        "from google.colab import drive\n",
        "drive.mount('/content/drive')\n",
        "\n",
        "# Step 1: Load and Preprocess Data\n",
        "data = '/content/drive/My Drive/Colab Notebooks/LING 227: Final Project/amazon_review.csv'\n",
        "reviews = pd.read_csv(data)\n",
        "reviews = reviews[['reviewText', 'overall']]  # Adjust column names as needed\n",
        "reviews.dropna(inplace=True)\n",
        "\n",
        "def text_cleaning(text):\n",
        "    soup = BeautifulSoup(text, \"html.parser\")\n",
        "    text = re.sub(r'\\[[^]]*\\]', '', soup.get_text())\n",
        "    pattern = r\"[^a-zA-Z0-9\\s,']\"\n",
        "    text = re.sub(pattern, '', text)\n",
        "    return text\n",
        "\n",
        "reviews['cleaned_review'] = reviews['reviewText'].apply(text_cleaning)\n",
        "'''trainData['Label'] = trainData['Label'].astype(int)\n",
        "testData['Label'] = testData['Label'].astype(int)\n",
        "'''"
      ]
    },
    {
      "cell_type": "code",
      "execution_count": null,
      "metadata": {
        "colab": {
          "base_uri": "https://localhost:8080/"
        },
        "id": "L7eGGN-tc1cy",
        "outputId": "63fd7e64-1756-45e1-a0d8-750acc0a14d2"
      },
      "outputs": [
        {
          "name": "stdout",
          "output_type": "stream",
          "text": [
            "Requirement already satisfied: datasets in /usr/local/lib/python3.10/dist-packages (3.2.0)\n",
            "Requirement already satisfied: filelock in /usr/local/lib/python3.10/dist-packages (from datasets) (3.16.1)\n",
            "Requirement already satisfied: numpy>=1.17 in /usr/local/lib/python3.10/dist-packages (from datasets) (1.26.4)\n",
            "Requirement already satisfied: pyarrow>=15.0.0 in /usr/local/lib/python3.10/dist-packages (from datasets) (17.0.0)\n",
            "Requirement already satisfied: dill<0.3.9,>=0.3.0 in /usr/local/lib/python3.10/dist-packages (from datasets) (0.3.8)\n",
            "Requirement already satisfied: pandas in /usr/local/lib/python3.10/dist-packages (from datasets) (2.2.2)\n",
            "Requirement already satisfied: requests>=2.32.2 in /usr/local/lib/python3.10/dist-packages (from datasets) (2.32.3)\n",
            "Requirement already satisfied: tqdm>=4.66.3 in /usr/local/lib/python3.10/dist-packages (from datasets) (4.66.6)\n",
            "Requirement already satisfied: xxhash in /usr/local/lib/python3.10/dist-packages (from datasets) (3.5.0)\n",
            "Requirement already satisfied: multiprocess<0.70.17 in /usr/local/lib/python3.10/dist-packages (from datasets) (0.70.16)\n",
            "Requirement already satisfied: fsspec<=2024.9.0,>=2023.1.0 in /usr/local/lib/python3.10/dist-packages (from fsspec[http]<=2024.9.0,>=2023.1.0->datasets) (2024.9.0)\n",
            "Requirement already satisfied: aiohttp in /usr/local/lib/python3.10/dist-packages (from datasets) (3.11.10)\n",
            "Requirement already satisfied: huggingface-hub>=0.23.0 in /usr/local/lib/python3.10/dist-packages (from datasets) (0.26.5)\n",
            "Requirement already satisfied: packaging in /usr/local/lib/python3.10/dist-packages (from datasets) (24.2)\n",
            "Requirement already satisfied: pyyaml>=5.1 in /usr/local/lib/python3.10/dist-packages (from datasets) (6.0.2)\n",
            "Requirement already satisfied: aiohappyeyeballs>=2.3.0 in /usr/local/lib/python3.10/dist-packages (from aiohttp->datasets) (2.4.4)\n",
            "Requirement already satisfied: aiosignal>=1.1.2 in /usr/local/lib/python3.10/dist-packages (from aiohttp->datasets) (1.3.1)\n",
            "Requirement already satisfied: async-timeout<6.0,>=4.0 in /usr/local/lib/python3.10/dist-packages (from aiohttp->datasets) (4.0.3)\n",
            "Requirement already satisfied: attrs>=17.3.0 in /usr/local/lib/python3.10/dist-packages (from aiohttp->datasets) (24.2.0)\n",
            "Requirement already satisfied: frozenlist>=1.1.1 in /usr/local/lib/python3.10/dist-packages (from aiohttp->datasets) (1.5.0)\n",
            "Requirement already satisfied: multidict<7.0,>=4.5 in /usr/local/lib/python3.10/dist-packages (from aiohttp->datasets) (6.1.0)\n",
            "Requirement already satisfied: propcache>=0.2.0 in /usr/local/lib/python3.10/dist-packages (from aiohttp->datasets) (0.2.1)\n",
            "Requirement already satisfied: yarl<2.0,>=1.17.0 in /usr/local/lib/python3.10/dist-packages (from aiohttp->datasets) (1.18.3)\n",
            "Requirement already satisfied: typing-extensions>=3.7.4.3 in /usr/local/lib/python3.10/dist-packages (from huggingface-hub>=0.23.0->datasets) (4.12.2)\n",
            "Requirement already satisfied: charset-normalizer<4,>=2 in /usr/local/lib/python3.10/dist-packages (from requests>=2.32.2->datasets) (3.4.0)\n",
            "Requirement already satisfied: idna<4,>=2.5 in /usr/local/lib/python3.10/dist-packages (from requests>=2.32.2->datasets) (3.10)\n",
            "Requirement already satisfied: urllib3<3,>=1.21.1 in /usr/local/lib/python3.10/dist-packages (from requests>=2.32.2->datasets) (2.2.3)\n",
            "Requirement already satisfied: certifi>=2017.4.17 in /usr/local/lib/python3.10/dist-packages (from requests>=2.32.2->datasets) (2024.8.30)\n",
            "Requirement already satisfied: python-dateutil>=2.8.2 in /usr/local/lib/python3.10/dist-packages (from pandas->datasets) (2.8.2)\n",
            "Requirement already satisfied: pytz>=2020.1 in /usr/local/lib/python3.10/dist-packages (from pandas->datasets) (2024.2)\n",
            "Requirement already satisfied: tzdata>=2022.7 in /usr/local/lib/python3.10/dist-packages (from pandas->datasets) (2024.2)\n",
            "Requirement already satisfied: six>=1.5 in /usr/local/lib/python3.10/dist-packages (from python-dateutil>=2.8.2->pandas->datasets) (1.17.0)\n",
            "DatasetDict({\n",
            "    train: Dataset({\n",
            "        features: ['text', 'label'],\n",
            "        num_rows: 2948\n",
            "    })\n",
            "    validation: Dataset({\n",
            "        features: ['text', 'label'],\n",
            "        num_rows: 983\n",
            "    })\n",
            "    test: Dataset({\n",
            "        features: ['text', 'label'],\n",
            "        num_rows: 983\n",
            "    })\n",
            "})\n"
          ]
        }
      ],
      "source": [
        "!pip install datasets\n",
        "import pandas as pd\n",
        "from datasets import Dataset, DatasetDict\n",
        "from sklearn.model_selection import train_test_split\n",
        "\n",
        "train_texts, temp_texts, train_labels, temp_labels = train_test_split(\n",
        "    reviews['reviewText'].tolist(),\n",
        "    reviews['overall'].tolist(),\n",
        "    test_size=0.4,\n",
        "    random_state=42\n",
        ")\n",
        "\n",
        "val_texts, test_texts, val_labels, test_labels = train_test_split(\n",
        "    temp_texts,\n",
        "    temp_labels,\n",
        "    test_size=0.5,\n",
        "    random_state=42\n",
        ")\n",
        "\n",
        "train_data = {\"text\": train_texts, \"label\": train_labels}\n",
        "val_data = {\"text\": val_texts, \"label\": val_labels}\n",
        "test_data = {\"text\": test_texts, \"label\": test_labels}\n",
        "\n",
        "train_dataset = Dataset.from_dict(train_data)\n",
        "val_dataset = Dataset.from_dict(val_data)\n",
        "test_dataset = Dataset.from_dict(test_data)\n",
        "\n",
        "amazon = DatasetDict({\n",
        "    \"train\": train_dataset,\n",
        "    \"validation\": val_dataset,\n",
        "    \"test\": test_dataset,\n",
        "})\n"
      ]
    },
    {
      "cell_type": "code",
      "execution_count": null,
      "metadata": {
        "colab": {
          "base_uri": "https://localhost:8080/",
          "height": 70
        },
        "id": "sAD6kyAbdIKH",
        "outputId": "a7ef024b-365c-437c-f5bd-0a5f8c9e79d8"
      },
      "outputs": [
        {
          "data": {
            "application/vnd.google.colaboratory.intrinsic+json": {
              "type": "string"
            },
            "text/plain": [
              "\"\\ntrain_df['label'] = train_df['label'] - 1  # Shift labels to 0-4 (if labels were from 1 to 5)\\nvalid_df['label'] = valid_df['label'] - 1\\ntest_df['label'] = test_df['label'] - 1\\n\\ntrain_df = train_df.groupby('label').apply(lambda x: x.sample(54)).reset_index(drop=True)\\nvalid_df = valid_df.groupby('label').apply(lambda x: x.sample(13)).reset_index(drop=True)\\ntest_df = test_df.groupby('label').apply(lambda x: x.sample(13)).reset_index(drop=True)\""
            ]
          },
          "execution_count": 22,
          "metadata": {},
          "output_type": "execute_result"
        }
      ],
      "source": [
        "\n",
        "amazon.set_format(type=\"pandas\")\n",
        "train_df = amazon['train'][:]\n",
        "valid_df = amazon['validation'][:]\n",
        "test_df = amazon['test'][:]\n",
        "\n",
        "'''\n",
        "train_df['label'] = train_df['label'] - 1  # Shift labels to 0-4 (if labels were from 1 to 5)\n",
        "valid_df['label'] = valid_df['label'] - 1\n",
        "test_df['label'] = test_df['label'] - 1\n",
        "\n",
        "train_df = train_df.groupby('label').apply(lambda x: x.sample(54)).reset_index(drop=True)\n",
        "valid_df = valid_df.groupby('label').apply(lambda x: x.sample(13)).reset_index(drop=True)\n",
        "test_df = test_df.groupby('label').apply(lambda x: x.sample(13)).reset_index(drop=True)'''"
      ]
    },
    {
      "cell_type": "code",
      "execution_count": null,
      "metadata": {
        "id": "Q3b75Nr6cG7y"
      },
      "outputs": [],
      "source": [
        "# Create feature vectors\n",
        "vectorizer = TfidfVectorizer(\n",
        "    min_df=5, max_df=0.8, sublinear_tf=True, use_idf=True\n",
        ")\n",
        "\n",
        "train_vectors = vectorizer.fit_transform(train_df['text'])\n",
        "test_vectors = vectorizer.transform(test_df['text'])\n",
        "\n",
        "valid_vectors = vectorizer.transform(valid_df['text'])\n"
      ]
    },
    {
      "cell_type": "code",
      "execution_count": null,
      "metadata": {
        "colab": {
          "base_uri": "https://localhost:8080/"
        },
        "id": "ewehq-KgcJf0",
        "outputId": "d6aab072-1d58-4ecf-ad56-2fa30e4b189d"
      },
      "outputs": [
        {
          "name": "stdout",
          "output_type": "stream",
          "text": [
            "Results for SVC(kernel=linear)\n",
            "Training time: 4.024073s; Prediction time: 1.092658s\n",
            "              precision    recall  f1-score   support\n",
            "\n",
            "         1.0       0.67      0.43      0.53        46\n",
            "         2.0       0.00      0.00      0.00        13\n",
            "         3.0       0.00      0.00      0.00        26\n",
            "         4.0       0.00      0.00      0.00       106\n",
            "         5.0       0.83      1.00      0.91       792\n",
            "\n",
            "    accuracy                           0.83       983\n",
            "   macro avg       0.30      0.29      0.29       983\n",
            "weighted avg       0.70      0.83      0.76       983\n",
            "\n"
          ]
        },
        {
          "name": "stderr",
          "output_type": "stream",
          "text": [
            "/usr/local/lib/python3.10/dist-packages/sklearn/metrics/_classification.py:1531: UndefinedMetricWarning: Precision is ill-defined and being set to 0.0 in labels with no predicted samples. Use `zero_division` parameter to control this behavior.\n",
            "  _warn_prf(average, modifier, f\"{metric.capitalize()} is\", len(result))\n",
            "/usr/local/lib/python3.10/dist-packages/sklearn/metrics/_classification.py:1531: UndefinedMetricWarning: Precision is ill-defined and being set to 0.0 in labels with no predicted samples. Use `zero_division` parameter to control this behavior.\n",
            "  _warn_prf(average, modifier, f\"{metric.capitalize()} is\", len(result))\n",
            "/usr/local/lib/python3.10/dist-packages/sklearn/metrics/_classification.py:1531: UndefinedMetricWarning: Precision is ill-defined and being set to 0.0 in labels with no predicted samples. Use `zero_division` parameter to control this behavior.\n",
            "  _warn_prf(average, modifier, f\"{metric.capitalize()} is\", len(result))\n",
            "/usr/local/lib/python3.10/dist-packages/sklearn/metrics/_classification.py:1531: UndefinedMetricWarning: Precision is ill-defined and being set to 0.0 in labels with no predicted samples. Use `zero_division` parameter to control this behavior.\n",
            "  _warn_prf(average, modifier, f\"{metric.capitalize()} is\", len(result))\n",
            "/usr/local/lib/python3.10/dist-packages/sklearn/metrics/_classification.py:1531: UndefinedMetricWarning: Precision is ill-defined and being set to 0.0 in labels with no predicted samples. Use `zero_division` parameter to control this behavior.\n",
            "  _warn_prf(average, modifier, f\"{metric.capitalize()} is\", len(result))\n",
            "/usr/local/lib/python3.10/dist-packages/sklearn/metrics/_classification.py:1531: UndefinedMetricWarning: Precision is ill-defined and being set to 0.0 in labels with no predicted samples. Use `zero_division` parameter to control this behavior.\n",
            "  _warn_prf(average, modifier, f\"{metric.capitalize()} is\", len(result))\n"
          ]
        }
      ],
      "source": [
        "classifier_linear = svm.SVC(kernel='linear', decision_function_shape='ovr')  # One-vs-Rest for multi-class\n",
        "\n",
        "t0 = time.time()\n",
        "classifier_linear.fit(train_vectors, train_df['label'])\n",
        "t1 = time.time()\n",
        "\n",
        "prediction_linear = classifier_linear.predict(test_vectors)\n",
        "t2 = time.time()\n",
        "\n",
        "time_linear_train = t1 - t0\n",
        "time_linear_predict = t2 - t1\n",
        "\n",
        "print(\"Results for SVC(kernel=linear)\")\n",
        "print(\"Training time: %fs; Prediction time: %fs\" % (time_linear_train, time_linear_predict))\n",
        "\n",
        "report = classification_report(test_df['label'], prediction_linear, output_dict=False)\n",
        "print(report)\n",
        "\n",
        "report_df = pd.DataFrame(classification_report(test_df['label'], prediction_linear, output_dict=True)).transpose()\n",
        "report_df.to_csv(\"classification_report.csv\", index=True)"
      ]
    },
    {
      "cell_type": "code",
      "execution_count": null,
      "metadata": {
        "colab": {
          "base_uri": "https://localhost:8080/",
          "height": 487
        },
        "id": "MkjW3hCux_6V",
        "outputId": "be822bf6-50b2-4d20-9abc-52056a1304b5"
      },
      "outputs": [
        {
          "data": {
            "image/png": "[encoded data removed]",
            "text/plain": [
              "<Figure size 500x500 with 1 Axes>"
            ]
          },
          "metadata": {},
          "output_type": "display_data"
        }
      ],
      "source": [
        "label_names = [\"1 star\", \"2 star\", \"3 star\", \"4 star\", \"5 star\"]\n",
        "label_names\n",
        "\n",
        "import matplotlib.pyplot as plt\n",
        "from sklearn.metrics import ConfusionMatrixDisplay, confusion_matrix\n",
        "\n",
        "def plot_confusion_matrix(y_preds, y_true, labels=None):\n",
        "    cm = confusion_matrix(y_true, y_preds, normalize=\"true\")  # Normalized confusion matrix\n",
        "    fig, ax = plt.subplots(figsize=(5, 5))  # Create a plot with a specific size\n",
        "    disp = ConfusionMatrixDisplay(confusion_matrix=cm, display_labels=labels)  # Display confusion matrix\n",
        "    disp.plot(cmap=\"Blues\", values_format=\".2f\", ax=ax, colorbar=False)  # Plot with blue colormap and format\n",
        "    plt.title(\"Normalized confusion matrix\")  # Set title for the plot\n",
        "    plt.show()  # Show the plot\n",
        "\n",
        "plot_confusion_matrix(prediction_linear, test_df['label'].to_numpy(), labels=label_names)\n"
      ]
    }
  ],
  "metadata": {
    "colab": {
      "provenance": []
    },
    "kernelspec": {
      "display_name": "Python 3",
      "name": "python3"
    },
    "language_info": {
      "name": "python"
    }
  },
  "nbformat": 4,
  "nbformat_minor": 0
}
