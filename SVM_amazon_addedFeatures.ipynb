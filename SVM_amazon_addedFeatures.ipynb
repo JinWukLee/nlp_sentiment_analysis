{
  "nbformat": 4,
  "nbformat_minor": 0,
  "metadata": {
    "colab": {
      "provenance": []
    },
    "kernelspec": {
      "name": "python3",
      "display_name": "Python 3"
    },
    "language_info": {
      "name": "python"
    }
  },
  "cells": [
    {
      "cell_type": "code",
      "source": [
        "import pandas as pd\n",
        "import numpy as np\n",
        "from sklearn.model_selection import train_test_split\n",
        "from sklearn.metrics import classification_report\n",
        "from sklearn.linear_model import LogisticRegression\n",
        "from sklearn.svm import SVC\n",
        "\n",
        "from transformers import BertTokenizer, BertModel\n",
        "from transformers import Trainer, TrainingArguments\n",
        "\n",
        "import torch\n",
        "from torch.utils.data import Dataset, DataLoader\n",
        "\n",
        "from bs4 import BeautifulSoup\n",
        "import re\n",
        "from wordcloud import WordCloud, STOPWORDS\n",
        "import matplotlib.pyplot as plt\n",
        "\n",
        "from sklearn.preprocessing import StandardScaler\n",
        "import numpy as np\n",
        "import pandas as pd\n",
        "from sklearn.model_selection import train_test_split\n",
        "from sklearn.svm import SVC\n",
        "from sklearn.metrics import classification_report\n",
        "from sklearn.feature_extraction.text import TfidfVectorizer\n",
        "from datetime import datetime\n",
        "from sklearn.pipeline import make_pipeline"
      ],
      "metadata": {
        "id": "Bx8PeZG2k2qA"
      },
      "execution_count": null,
      "outputs": []
    },
    {
      "cell_type": "code",
      "source": [
        "from google.colab import drive\n",
        "drive.mount('/content/drive')\n",
        "\n",
        "# Step 1: Load and Preprocess Data\n",
        "data = '/content/drive/My Drive/Colab Notebooks/LING 227: Final Project/amazon_review.csv'\n",
        "reviews = pd.read_csv(data)\n",
        "reviews = reviews[['reviewText', 'overall', 'reviewTime', 'day_diff']]  # Adjust column names as needed\n",
        "reviews.dropna(inplace=True)\n",
        "\n",
        "def text_cleaning(text):\n",
        "    soup = BeautifulSoup(text, \"html.parser\")\n",
        "    text = re.sub(r'\\[[^]]*\\]', '', soup.get_text())\n",
        "    pattern = r\"[^a-zA-Z0-9\\s,']\"\n",
        "    text = re.sub(pattern, '', text)\n",
        "    return text\n",
        "\n",
        "reviews['cleaned_review'] = reviews['reviewText'].apply(text_cleaning)\n",
        "# Ensure labels are numeric and range from 0 to 4 (or adjust as necessary)\n",
        "# Here we assume 'Label' contains values from 0-4 representing star ratings\n",
        "'''trainData['Label'] = trainData['Label'].astype(int)\n",
        "testData['Label'] = testData['Label'].astype(int)\n",
        "'''\n"
      ],
      "metadata": {
        "colab": {
          "base_uri": "https://localhost:8080/",
          "height": 125
        },
        "id": "sSVghJTZkngr",
        "outputId": "683acef3-fcdb-4246-f202-7beacf874923"
      },
      "execution_count": null,
      "outputs": [
        {
          "output_type": "stream",
          "name": "stdout",
          "text": [
            "Drive already mounted at /content/drive; to attempt to forcibly remount, call drive.mount(\"/content/drive\", force_remount=True).\n"
          ]
        },
        {
          "output_type": "stream",
          "name": "stderr",
          "text": [
            "<ipython-input-5-fe950fb7019b>:11: MarkupResemblesLocatorWarning: The input looks more like a filename than markup. You may want to open this file and pass the filehandle into Beautiful Soup.\n",
            "  soup = BeautifulSoup(text, \"html.parser\")\n"
          ]
        },
        {
          "output_type": "execute_result",
          "data": {
            "text/plain": [
              "\"trainData['Label'] = trainData['Label'].astype(int)\\ntestData['Label'] = testData['Label'].astype(int)\\n\""
            ],
            "application/vnd.google.colaboratory.intrinsic+json": {
              "type": "string"
            }
          },
          "metadata": {},
          "execution_count": 5
        }
      ]
    },
    {
      "cell_type": "code",
      "source": [
        "# Convert 'review_Time' to datetime\n",
        "reviews['reviewTime'] = pd.to_datetime(reviews['reviewTime'], errors='coerce')\n",
        "reviews['reviewTime'] = reviews['reviewTime'].apply(lambda x: x.timestamp() if pd.notnull(x) else None)\n",
        "\n",
        "\n",
        "# Fill or drop any missing values\n",
        "reviews.fillna({'day_diff': 0, 'purchase_year': 0, 'purchase_month': 0, 'purchase_weekday': 0}, inplace=True)\n"
      ],
      "metadata": {
        "id": "M71L5Jgvle5C"
      },
      "execution_count": null,
      "outputs": []
    },
    {
      "cell_type": "code",
      "source": [
        "import pandas as pd\n",
        "import numpy as np\n",
        "from sklearn.feature_extraction.text import TfidfVectorizer\n",
        "from sklearn.model_selection import train_test_split\n",
        "from sklearn.preprocessing import StandardScaler\n",
        "from scipy.sparse import hstack, csr_matrix\n",
        "\n",
        "reviews['reviewTime'] = pd.to_datetime(reviews['reviewTime'], errors='coerce')\n",
        "\n",
        "train_reviews, temp_reviews = train_test_split(reviews, test_size=0.4, random_state=42)\n",
        "val_reviews, test_reviews = train_test_split(temp_reviews, test_size=0.5, random_state=42)\n",
        "\n",
        "train_texts = train_reviews['cleaned_review'].tolist()\n",
        "val_texts = val_reviews['cleaned_review'].tolist()\n",
        "test_texts = test_reviews['cleaned_review'].tolist()\n",
        "\n",
        "train_labels = train_reviews['overall'].tolist()\n",
        "val_labels = val_reviews['overall'].tolist()\n",
        "test_labels = test_reviews['overall'].tolist()\n",
        "\n",
        "vectorizer = TfidfVectorizer(min_df=5, max_df=0.8, sublinear_tf=True, use_idf=True)\n",
        "\n",
        "train_text_vectors = vectorizer.fit_transform(train_texts)\n",
        "val_text_vectors = vectorizer.transform(val_texts)\n",
        "test_text_vectors = vectorizer.transform(test_texts)\n",
        "\n",
        "\n",
        "train_reviews['reviewTime'] = train_reviews['reviewTime'].apply(lambda x: x.timestamp() if pd.notnull(x) else np.nan)\n",
        "val_reviews['reviewTime'] = val_reviews['reviewTime'].apply(lambda x: x.timestamp() if pd.notnull(x) else np.nan)\n",
        "test_reviews['reviewTime'] = test_reviews['reviewTime'].apply(lambda x: x.timestamp() if pd.notnull(x) else np.nan)\n",
        "\n",
        "train_additional_features = train_reviews[['reviewTime', 'day_diff']].values\n",
        "val_additional_features = val_reviews[['reviewTime', 'day_diff']].values\n",
        "test_additional_features = test_reviews[['reviewTime', 'day_diff']].values\n",
        "\n",
        "scaler = StandardScaler()\n",
        "train_additional_features = scaler.fit_transform(train_additional_features)\n",
        "val_additional_features = scaler.transform(val_additional_features)\n",
        "test_additional_features = scaler.transform(test_additional_features)\n",
        "\n",
        "train_additional_features = csr_matrix(train_additional_features)\n",
        "val_additional_features = csr_matrix(val_additional_features)\n",
        "test_additional_features = csr_matrix(test_additional_features)\n",
        "\n",
        "train_features = hstack([train_text_vectors, train_additional_features])\n",
        "val_features = hstack([val_text_vectors, val_additional_features])\n",
        "test_features = hstack([test_text_vectors, test_additional_features])\n",
        "\n"
      ],
      "metadata": {
        "id": "xoLHosd3npR_"
      },
      "execution_count": null,
      "outputs": []
    },
    {
      "cell_type": "code",
      "source": [
        "\n",
        "classifier = SVC(kernel='linear', decision_function_shape='ovr')\n",
        "classifier.fit(train_features, train_labels)\n",
        "\n",
        "predictions = classifier.predict(test_features)\n",
        "\n",
        "print(\"Classification Report:\\n\", classification_report(test_labels, predictions))\n",
        "\n",
        "report_df = pd.DataFrame(classification_report(test_labels, predictions, output_dict=True)).transpose()\n",
        "report_df.to_csv(\"classification_report.csv\", index=True)\n"
      ],
      "metadata": {
        "colab": {
          "base_uri": "https://localhost:8080/"
        },
        "id": "PJ8htTNwmiRR",
        "outputId": "2b8be0c7-caa4-4c44-bb45-21127e0cc87d"
      },
      "execution_count": null,
      "outputs": [
        {
          "output_type": "stream",
          "name": "stdout",
          "text": [
            "Classification Report:\n",
            "               precision    recall  f1-score   support\n",
            "\n",
            "         1.0       0.74      0.43      0.55        46\n",
            "         2.0       0.00      0.00      0.00        13\n",
            "         3.0       1.00      0.04      0.07        26\n",
            "         4.0       0.00      0.00      0.00       106\n",
            "         5.0       0.83      1.00      0.91       792\n",
            "\n",
            "    accuracy                           0.83       983\n",
            "   macro avg       0.51      0.29      0.31       983\n",
            "weighted avg       0.73      0.83      0.76       983\n",
            "\n"
          ]
        },
        {
          "output_type": "stream",
          "name": "stderr",
          "text": [
            "/usr/local/lib/python3.10/dist-packages/sklearn/metrics/_classification.py:1531: UndefinedMetricWarning: Precision is ill-defined and being set to 0.0 in labels with no predicted samples. Use `zero_division` parameter to control this behavior.\n",
            "  _warn_prf(average, modifier, f\"{metric.capitalize()} is\", len(result))\n",
            "/usr/local/lib/python3.10/dist-packages/sklearn/metrics/_classification.py:1531: UndefinedMetricWarning: Precision is ill-defined and being set to 0.0 in labels with no predicted samples. Use `zero_division` parameter to control this behavior.\n",
            "  _warn_prf(average, modifier, f\"{metric.capitalize()} is\", len(result))\n",
            "/usr/local/lib/python3.10/dist-packages/sklearn/metrics/_classification.py:1531: UndefinedMetricWarning: Precision is ill-defined and being set to 0.0 in labels with no predicted samples. Use `zero_division` parameter to control this behavior.\n",
            "  _warn_prf(average, modifier, f\"{metric.capitalize()} is\", len(result))\n",
            "/usr/local/lib/python3.10/dist-packages/sklearn/metrics/_classification.py:1531: UndefinedMetricWarning: Precision is ill-defined and being set to 0.0 in labels with no predicted samples. Use `zero_division` parameter to control this behavior.\n",
            "  _warn_prf(average, modifier, f\"{metric.capitalize()} is\", len(result))\n",
            "/usr/local/lib/python3.10/dist-packages/sklearn/metrics/_classification.py:1531: UndefinedMetricWarning: Precision is ill-defined and being set to 0.0 in labels with no predicted samples. Use `zero_division` parameter to control this behavior.\n",
            "  _warn_prf(average, modifier, f\"{metric.capitalize()} is\", len(result))\n",
            "/usr/local/lib/python3.10/dist-packages/sklearn/metrics/_classification.py:1531: UndefinedMetricWarning: Precision is ill-defined and being set to 0.0 in labels with no predicted samples. Use `zero_division` parameter to control this behavior.\n",
            "  _warn_prf(average, modifier, f\"{metric.capitalize()} is\", len(result))\n"
          ]
        }
      ]
    },
    {
      "cell_type": "code",
      "source": [
        "label_names = [\"1 star\", \"2 star\", \"3 star\", \"4 star\", \"5 star\"]\n",
        "label_names\n",
        "\n",
        "import matplotlib.pyplot as plt\n",
        "from sklearn.metrics import ConfusionMatrixDisplay, confusion_matrix\n",
        "\n",
        "def plot_confusion_matrix(y_preds, y_true, labels=None):\n",
        "    cm = confusion_matrix(y_true, y_preds, normalize=\"true\")  # Normalized confusion matrix\n",
        "    fig, ax = plt.subplots(figsize=(5, 5))  # Create a plot with a specific size\n",
        "    disp = ConfusionMatrixDisplay(confusion_matrix=cm, display_labels=labels)  # Display confusion matrix\n",
        "    disp.plot(cmap=\"Blues\", values_format=\".2f\", ax=ax, colorbar=False)  # Plot with blue colormap and format\n",
        "    plt.title(\"Normalized confusion matrix\")  # Set title for the plot\n",
        "    plt.show()  # Show the plot\n",
        "\n",
        "plot_confusion_matrix(predictions, test_labels, labels=label_names)\n"
      ],
      "metadata": {
        "colab": {
          "base_uri": "https://localhost:8080/",
          "height": 487
        },
        "id": "qAYWm4eRyKwD",
        "outputId": "30feddc9-5b6f-4ab4-837f-a8ddaa422dde"
      },
      "execution_count": null,
      "outputs": [
        {
          "output_type": "display_data",
          "data": {
            "text/plain": [
              "<Figure size 500x500 with 1 Axes>"
            ],
            "image/png": "[encoded data removed]"
          },
          "metadata": {}
        }
      ]
    }
  ]
}